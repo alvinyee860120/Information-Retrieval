{
 "cells": [
  {
   "cell_type": "code",
   "execution_count": 1,
   "metadata": {},
   "outputs": [],
   "source": [
    "facility = 'room bed comfortable bathroom bar shower view facility wifi floor window air door desk tv decor bedroom'\n",
    "service = 'staff friendly service reception check booking'\n",
    "transportation = 'location station area place metro central city parking park'\n",
    "food = 'breakfast restaurant food coffee water tea drink'\n",
    "cl = [facility,service,transportation,food]\n",
    "import re\n",
    "from nltk.stem import WordNetLemmatizer\n",
    "from nltk.corpus import stopwords\n",
    "from collections import Counter\n",
    "import math\n",
    "import numpy as np\n",
    "import pandas as pd\n",
    "data = pd.read_csv('clean_dataset.csv')\n",
    "lei = data[data['TripStyle'].isin(['Leisure'])]\n",
    "bus = data[data['TripStyle'].isin(['Business'])]\n",
    "del data['Unnamed: 0']"
   ]
  },
  {
   "cell_type": "code",
   "execution_count": 2,
   "metadata": {},
   "outputs": [],
   "source": [
    "r = '[0-9’!\"#$%&\\'()*+,-./:;<=>?@，。?★、…【】《》？“”‘’！[\\\\]^_`{|}~]+' #要去除的符號\n",
    "wnl = WordNetLemmatizer()\n",
    "stop_words = set(stopwords.words('english'))#載入stopwords\n",
    "df = {}\n",
    "tfN = []\n",
    "tfP = []\n",
    "for i in range(len(data)):\n",
    "    nopunc = re.sub(r, \"\", data['NegativeReview'][i])  # 去除符號\n",
    "    low = nopunc.lower()  # 轉成小寫\n",
    "    tokenize = low.split()\n",
    "    stem = [wnl.lemmatize(i) for i in tokenize]\n",
    "    content = [r for r in stem if r not in stop_words]  # 去除stopwords\n",
    "    c = Counter(content)\n",
    "    tfN.append(c)\n",
    "    for i2 in c:\n",
    "        df[i2]=df.get(i2,0)+1\n",
    "    nopunc = re.sub(r, \"\", data['PositiveReview'][i])  # 去除符號\n",
    "    low = nopunc.lower()  # 轉成小寫\n",
    "    tokenize = low.split()\n",
    "    stem = [wnl.lemmatize(i) for i in tokenize]\n",
    "    content = [r for r in stem if r not in stop_words]  # 去除stopwords\n",
    "    c = Counter(content)\n",
    "    tfP.append(c)\n",
    "    for i2 in c:\n",
    "        df[i2]=df.get(i2,0)+1"
   ]
  },
  {
   "cell_type": "code",
   "execution_count": 3,
   "metadata": {},
   "outputs": [
    {
     "name": "stdout",
     "output_type": "stream",
     "text": [
      "{'room': 97588, 'wa': 86314, 'staff': 68315, 'location': 61743, 'hotel': 49027, 'breakfast': 39907, 'negative': 39691, 'good': 36367, 'great': 30867, 'bed': 28213, 'friendly': 26762, 'helpful': 22214, 'nice': 21615, 'clean': 21529, 'small': 20763, 'comfortable': 19665, 'excellent': 18013, 'service': 14774, 'positive': 14191, 'bathroom': 13767, 'nothing': 13644, 'stay': 13641, 'would': 13044, 'really': 12130, 'bar': 11818, 'could': 11778, 'restaurant': 11224, 'one': 10883, 'night': 10820, 'station': 10226, 'everything': 10081, 'close': 10056, 'shower': 10011, 'time': 9966, 'lovely': 9942, 'like': 9920, 'well': 9750, 'reception': 9704, 'bit': 9351, 'also': 8893, 'price': 8735, 'view': 8702, 'little': 8682, 'london': 8606, 'area': 8400, 'food': 8356, 'get': 8151, 'facility': 8093, 'day': 7795, 'u': 7782, 'perfect': 7762, 'quiet': 7637, 'need': 7190, 'check': 7054, 'wifi': 7019, 'even': 6901, 'floor': 6634, 'comfy': 6490, 'walk': 6449, 'place': 6363, 'work': 6349, 'free': 6294, 'next': 6148, 'window': 6044, 'poor': 5899, 'coffee': 5885, 'quite': 5799, 'water': 5713, 'much': 5694, 'expensive': 5679, 'amazing': 5535, 'size': 5371, 'door': 5296, 'noisy': 5293, 'back': 5214, 'tube': 5207, 'modern': 5180, 'air': 5065, 'value': 5050, 'money': 4992, 'minute': 4985, 'made': 4949, 'old': 4909, 'better': 4887, 'lot': 4860, 'noise': 4834, 'extremely': 4796, 'hot': 4745, 'stayed': 4713, 'fantastic': 4607, 'around': 4579, 'big': 4448, 'got': 4395, 'street': 4372, 'near': 4322, 'quality': 4284, 'spacious': 4273, 'easy': 4260, 'morning': 4167, 'central': 4158, 'two': 4115, 'extra': 4088, 'go': 4056, 'beautiful': 4032, 'tea': 4005, 'front': 3955, 'first': 3945, 'people': 3929, 'booking': 3928, 'enough': 3918, 'best': 3901, 'metro': 3896, 'thing': 3840, 'booked': 3784, 'use': 3755, 'city': 3742, 'ha': 3724, 'desk': 3655, 'asked': 3596, 'bad': 3593, 'make': 3574, 'cold': 3571, 'tv': 3561, 'loved': 3537, 'choice': 3501, 'every': 3455, 'building': 3441, 'convenient': 3437, 'walking': 3416, 'outside': 3409, 'drink': 3407, 'feel': 3403, 'standard': 3394, 'star': 3378, 'definitely': 3372, 'high': 3332, 'space': 3321, 'park': 3293, 'away': 3283, 'double': 3276, 'problem': 3258, 'right': 3249, 'way': 3245, 'decor': 3243, 'always': 3223, 'guest': 3212, 'parking': 3209, 'open': 3203, 'sleep': 3189, 'access': 3184, 'working': 3151, 'bath': 3128, 'large': 3119, 'especially': 3079, 'though': 3074, 'bedroom': 3071, 'paris': 3071, 'many': 3068, 'super': 3027}\n"
     ]
    }
   ],
   "source": [
    "V = {}\n",
    "for k, v in sorted(df.items(), key=lambda q: q[1], reverse = True):\n",
    "    if v >= 3000:\n",
    "        V[k] = v\n",
    "print(V)"
   ]
  },
  {
   "cell_type": "code",
   "execution_count": 4,
   "metadata": {},
   "outputs": [],
   "source": [
    "lenV = len(V)\n",
    "for i in range(len(tfN)):\n",
    "    temp = np.zeros(lenV)\n",
    "    count = 0\n",
    "    for v in V:\n",
    "        num = tfN[i].get(v,0)\n",
    "        if num > 0:\n",
    "            temp[count]=num\n",
    "        count = count + 1\n",
    "    tfN[i] = temp\n",
    "    \n",
    "    temp = np.zeros(lenV)\n",
    "    count = 0\n",
    "    for v in V:\n",
    "        num = tfP[i].get(v,0)\n",
    "        if num > 0:\n",
    "            temp[count]=num\n",
    "        count = count + 1\n",
    "    tfP[i] = temp"
   ]
  },
  {
   "cell_type": "code",
   "execution_count": 5,
   "metadata": {},
   "outputs": [],
   "source": [
    "cluster = []\n",
    "for i in cl:\n",
    "    temp = np.zeros(lenV)\n",
    "    tokenize = i.split()\n",
    "    c = Counter(tokenize)\n",
    "    count = 0\n",
    "    for v in V:\n",
    "        num = c.get(v,0)\n",
    "        if num > 0:\n",
    "            temp[count]=num\n",
    "        count = count + 1\n",
    "    cluster.append(temp)"
   ]
  },
  {
   "cell_type": "code",
   "execution_count": 6,
   "metadata": {},
   "outputs": [
    {
     "name": "stderr",
     "output_type": "stream",
     "text": [
      "D:\\Anaconda3\\envs\\IR\\lib\\site-packages\\ipykernel_launcher.py:10: RuntimeWarning: invalid value encountered in true_divide\n",
      "  # Remove the CWD from sys.path while we load stuff.\n",
      "D:\\Anaconda3\\envs\\IR\\lib\\site-packages\\ipykernel_launcher.py:14: RuntimeWarning: invalid value encountered in true_divide\n",
      "  \n"
     ]
    }
   ],
   "source": [
    "idf = np.zeros(lenV)\n",
    "count = 0\n",
    "N = len(data)*2\n",
    "for k, v in V.items():#計算idf\n",
    "    idf[count] = math.log(N/v, 10)\n",
    "    count = count + 1\n",
    "for i in range(len(tfN)):\n",
    "    x = tfN[i] * idf\n",
    "    x_norm = np.linalg.norm(x)\n",
    "    tfN[i] = x/x_norm\n",
    "for i in range(len(tfP)):\n",
    "    x = tfP[i] * idf\n",
    "    x_norm = np.linalg.norm(x)\n",
    "    tfP[i] = x/x_norm"
   ]
  },
  {
   "cell_type": "code",
   "execution_count": 7,
   "metadata": {},
   "outputs": [],
   "source": [
    "for i in range(len(cluster)):\n",
    "    x = cluster[i] * idf\n",
    "    x_norm = np.linalg.norm(x)\n",
    "    cluster[i] = x/x_norm"
   ]
  },
  {
   "cell_type": "code",
   "execution_count": 8,
   "metadata": {},
   "outputs": [],
   "source": [
    "neg_b = np.zeros(5)\n",
    "pos_b = np.zeros(5)\n",
    "neg_l = np.zeros(5)\n",
    "pos_l = np.zeros(5)\n",
    "for i in range(len(data)):\n",
    "    similarity = []\n",
    "    other = 1\n",
    "    for i2 in range(len(cluster)):\n",
    "        ans = np.dot(cluster[i2],tfN[i])\n",
    "        if ans > 0:\n",
    "            other = 0\n",
    "        similarity.append(ans)\n",
    "    if other == 1:\n",
    "        if data['TripStyle'][i] == 'Business':\n",
    "            neg_b[4] = neg_b[4] + 1\n",
    "        else:\n",
    "            neg_l[4] = neg_l[4] + 1\n",
    "    else:\n",
    "        if data['TripStyle'][i] == 'Business':\n",
    "            index = np.argmax(similarity)\n",
    "            neg_b[index] = neg_b[index] + 1\n",
    "        else:\n",
    "            index = np.argmax(similarity)\n",
    "            neg_l[index] = neg_l[index] + 1\n",
    "\n",
    "for i in range(len(data)):\n",
    "    similarity = []\n",
    "    other = 1\n",
    "    for i2 in range(len(cluster)):\n",
    "        ans = np.dot(cluster[i2],tfP[i])\n",
    "        if ans > 0:\n",
    "            other = 0\n",
    "        similarity.append(ans)\n",
    "    if other == 1:\n",
    "        if data['TripStyle'][i] == 'Business':\n",
    "            pos_b[4] = pos_b[4] + 1\n",
    "        else:\n",
    "            pos_l[4] = pos_l[4] + 1\n",
    "    else:\n",
    "        if data['TripStyle'][i] == 'Business':\n",
    "            index = np.argmax(similarity)\n",
    "            pos_b[index] = pos_b[index] + 1\n",
    "        else:\n",
    "            index = np.argmax(similarity)\n",
    "            pos_l[index] = pos_l[index] + 1"
   ]
  },
  {
   "cell_type": "code",
   "execution_count": 9,
   "metadata": {},
   "outputs": [
    {
     "name": "stdout",
     "output_type": "stream",
     "text": [
      "[26821.  8144.  4278.  9740. 33956.]\n",
      "[16846. 18810. 19565.  9630. 18088.]\n"
     ]
    }
   ],
   "source": [
    "print(neg_b)\n",
    "print(pos_b)"
   ]
  },
  {
   "cell_type": "code",
   "execution_count": 10,
   "metadata": {},
   "outputs": [
    {
     "name": "stdout",
     "output_type": "stream",
     "text": [
      "[24772.  6797.  3652. 10216. 37502.]\n",
      "[19876. 22219. 18381.  9547. 12916.]\n"
     ]
    }
   ],
   "source": [
    "print(neg_l)\n",
    "print(pos_l)"
   ]
  },
  {
   "cell_type": "code",
   "execution_count": 11,
   "metadata": {},
   "outputs": [],
   "source": [
    "# 1342\n",
    "# 3214\n",
    "\n",
    "# 1342\n",
    "# 2134"
   ]
  }
 ],
 "metadata": {
  "kernelspec": {
   "display_name": "Python 3",
   "language": "python",
   "name": "python3"
  },
  "language_info": {
   "codemirror_mode": {
    "name": "ipython",
    "version": 3
   },
   "file_extension": ".py",
   "mimetype": "text/x-python",
   "name": "python",
   "nbconvert_exporter": "python",
   "pygments_lexer": "ipython3",
   "version": "3.6.5"
  }
 },
 "nbformat": 4,
 "nbformat_minor": 2
}
